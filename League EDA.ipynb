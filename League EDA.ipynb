{
 "cells": [
  {
   "cell_type": "markdown",
   "metadata": {},
   "source": [
    "https://www.kaggle.com/code/niteshyadav3103/hotel-booking-prediction-99-5-acc"
   ]
  },
  {
   "cell_type": "markdown",
   "metadata": {},
   "source": [
    "### Create a function to pull the previous 100 games in League"
   ]
  },
  {
   "cell_type": "code",
   "execution_count": 1,
   "metadata": {},
   "outputs": [],
   "source": [
    "api_key = \"RGAPI-685adb47-1a82-44f7-89e2-71b5dae3a2a7\""
   ]
  },
  {
   "cell_type": "code",
   "execution_count": 2,
   "metadata": {},
   "outputs": [],
   "source": [
    "def getPast100Games(api_key,summonerName,numGames=30):\n",
    "    import pandas as pd\n",
    "    import requests \n",
    "\n",
    "    if ' ' in summonerName:\n",
    "        summonerPullName= summonerName.replace(' ','%20')\n",
    "    else:\n",
    "        summonerPullName=summonerName\n",
    "    print(summonerPullName)\n",
    "    \n",
    "    api_key = api_key\n",
    "    api_url = f\"https://na1.api.riotgames.com/lol/summoner/v4/summoners/by-name/{summonerPullName}\"\n",
    "    api_url = api_url + '?api_key=' + api_key\n",
    "\n",
    "    resp = requests.get(api_url)\n",
    "    player_info = resp.json()\n",
    "    puuid=player_info['puuid']\n",
    "\n",
    "    api_url=f'https://americas.api.riotgames.com/lol/match/v5/matches/by-puuid/{puuid}/ids?start=0&count={numGames}'\n",
    "    api_url = api_url + '&api_key=' + api_key \n",
    "    resp = requests.get(api_url)\n",
    "    match_ids = resp.json()\n",
    "    \n",
    "    df=pd.DataFrame([])\n",
    "    for match in match_ids:\n",
    "        try:\n",
    "            # print(f'Pulling {match}')\n",
    "            match_id=f'https://americas.api.riotgames.com/lol/match/v5/matches/{match}'\n",
    "            api_url = match_id + '?api_key=' + api_key \n",
    "            resp = requests.get(api_url)\n",
    "            # print(resp)\n",
    "            \n",
    "            rspn_txt=resp.json()['info']['participants']\n",
    "\n",
    "            df1=pd.DataFrame(rspn_txt)\n",
    "            # print(df1.head(1))\n",
    "            # print(df1[['summonerName']])\n",
    "            # print(summonerName)\n",
    "            \n",
    "            df1=df1.loc[df1['summonerName']==summonerName]\n",
    "            # print(df1)\n",
    "            df1=df1[['kills'\n",
    "            ,'deaths'\n",
    "            ,'assists'\n",
    "            ,'magicDamageDealt'\n",
    "            ,'physicalDamageDealt'\n",
    "            # ,'challenges'\n",
    "            # ,'damageTakenOnTeamPercentage'\n",
    "            # ,'killParticipation'\n",
    "            ,'damageDealtToObjectives'\n",
    "            ,'firstBloodKill'\n",
    "            ,'goldEarned'\n",
    "            ,'champExperience'\n",
    "            ,'timePlayed'\n",
    "            ,'gameEndedInEarlySurrender'\n",
    "            ,'summonerName'\n",
    "            ,'win'\n",
    "            ]]\n",
    "            df=pd.concat([df,df1],ignore_index=True)\n",
    "            \n",
    "            # print('\\tComplete')\n",
    "\n",
    "        except Exception as e:\n",
    "            print(f'\\tFAIL {match}')\n",
    "            print(e)\n",
    "    return (df,player_info)"
   ]
  },
  {
   "cell_type": "code",
   "execution_count": 3,
   "metadata": {},
   "outputs": [
    {
     "name": "stdout",
     "output_type": "stream",
     "text": [
      "pulling Jason\n",
      "DDuck%20Hat\n",
      "\tFAIL NA1_4924325605\n",
      "'info'\n",
      "pulling Jeff\n",
      "Triemer\n",
      "\tFAIL NA1_4924004097\n",
      "'info'\n",
      "pulling Jared\n",
      "Knuckle%20Touch\n",
      "\tFAIL NA1_4937068315\n",
      "'info'\n"
     ]
    }
   ],
   "source": [
    "import time\n",
    "time.sleep(120)\n",
    "\n",
    "print(f'pulling Jason')\n",
    "jason_df,player_info=getPast100Games(api_key,\"DDuck Hat\",100)\n",
    "\n",
    "time.sleep(120)\n",
    "\n",
    "print(f'pulling Jeff')\n",
    "jeff_df,player_info=getPast100Games(api_key,\"Triemer\",100)\n",
    "\n",
    "time.sleep(120)\n",
    "\n",
    "print(f'pulling Jared')\n",
    "jared_df,player_info=getPast100Games(api_key,\"Knuckle Touch\",100)\n"
   ]
  },
  {
   "cell_type": "code",
   "execution_count": 4,
   "metadata": {},
   "outputs": [
    {
     "name": "stdout",
     "output_type": "stream",
     "text": [
      "(99, 13)\n",
      "(99, 13)\n",
      "(99, 13)\n"
     ]
    }
   ],
   "source": [
    "print(jason_df.shape)\n",
    "print(jared_df.shape)\n",
    "print(jeff_df.shape)"
   ]
  },
  {
   "cell_type": "code",
   "execution_count": 5,
   "metadata": {},
   "outputs": [
    {
     "name": "stdout",
     "output_type": "stream",
     "text": [
      "(297, 13)\n"
     ]
    }
   ],
   "source": [
    "import pandas as pd\n",
    "df=pd.concat([jeff_df,jason_df,jared_df],ignore_index=True)\n",
    "print(df.shape)"
   ]
  },
  {
   "cell_type": "code",
   "execution_count": 6,
   "metadata": {},
   "outputs": [
    {
     "data": {
      "text/plain": [
       "array(['Triemer', 'DDuck Hat', 'Knuckle Touch'], dtype=object)"
      ]
     },
     "execution_count": 6,
     "metadata": {},
     "output_type": "execute_result"
    }
   ],
   "source": [
    "df.summonerName.unique()"
   ]
  },
  {
   "cell_type": "code",
   "execution_count": 7,
   "metadata": {},
   "outputs": [
    {
     "data": {
      "text/html": [
       "<div>\n",
       "<style scoped>\n",
       "    .dataframe tbody tr th:only-of-type {\n",
       "        vertical-align: middle;\n",
       "    }\n",
       "\n",
       "    .dataframe tbody tr th {\n",
       "        vertical-align: top;\n",
       "    }\n",
       "\n",
       "    .dataframe thead th {\n",
       "        text-align: right;\n",
       "    }\n",
       "</style>\n",
       "<table border=\"1\" class=\"dataframe\">\n",
       "  <thead>\n",
       "    <tr style=\"text-align: right;\">\n",
       "      <th></th>\n",
       "      <th>kills</th>\n",
       "      <th>deaths</th>\n",
       "      <th>assists</th>\n",
       "      <th>magicDamageDealt</th>\n",
       "      <th>physicalDamageDealt</th>\n",
       "      <th>damageDealtToObjectives</th>\n",
       "      <th>firstBloodKill</th>\n",
       "      <th>goldEarned</th>\n",
       "      <th>champExperience</th>\n",
       "      <th>timePlayed</th>\n",
       "      <th>gameEndedInEarlySurrender</th>\n",
       "      <th>summonerName</th>\n",
       "      <th>win</th>\n",
       "    </tr>\n",
       "  </thead>\n",
       "  <tbody>\n",
       "    <tr>\n",
       "      <th>0</th>\n",
       "      <td>14</td>\n",
       "      <td>5</td>\n",
       "      <td>22</td>\n",
       "      <td>19487</td>\n",
       "      <td>128627</td>\n",
       "      <td>2640</td>\n",
       "      <td>False</td>\n",
       "      <td>16077</td>\n",
       "      <td>19532</td>\n",
       "      <td>1122</td>\n",
       "      <td>False</td>\n",
       "      <td>Triemer</td>\n",
       "      <td>True</td>\n",
       "    </tr>\n",
       "    <tr>\n",
       "      <th>1</th>\n",
       "      <td>7</td>\n",
       "      <td>12</td>\n",
       "      <td>30</td>\n",
       "      <td>31389</td>\n",
       "      <td>35673</td>\n",
       "      <td>128</td>\n",
       "      <td>False</td>\n",
       "      <td>17211</td>\n",
       "      <td>29790</td>\n",
       "      <td>1714</td>\n",
       "      <td>False</td>\n",
       "      <td>Triemer</td>\n",
       "      <td>False</td>\n",
       "    </tr>\n",
       "    <tr>\n",
       "      <th>2</th>\n",
       "      <td>12</td>\n",
       "      <td>11</td>\n",
       "      <td>33</td>\n",
       "      <td>2186</td>\n",
       "      <td>74431</td>\n",
       "      <td>626</td>\n",
       "      <td>False</td>\n",
       "      <td>15126</td>\n",
       "      <td>24573</td>\n",
       "      <td>1315</td>\n",
       "      <td>False</td>\n",
       "      <td>Triemer</td>\n",
       "      <td>False</td>\n",
       "    </tr>\n",
       "    <tr>\n",
       "      <th>3</th>\n",
       "      <td>8</td>\n",
       "      <td>8</td>\n",
       "      <td>16</td>\n",
       "      <td>752</td>\n",
       "      <td>39231</td>\n",
       "      <td>1458</td>\n",
       "      <td>False</td>\n",
       "      <td>10529</td>\n",
       "      <td>11717</td>\n",
       "      <td>871</td>\n",
       "      <td>False</td>\n",
       "      <td>Triemer</td>\n",
       "      <td>True</td>\n",
       "    </tr>\n",
       "    <tr>\n",
       "      <th>4</th>\n",
       "      <td>5</td>\n",
       "      <td>7</td>\n",
       "      <td>28</td>\n",
       "      <td>57569</td>\n",
       "      <td>2100</td>\n",
       "      <td>411</td>\n",
       "      <td>False</td>\n",
       "      <td>10213</td>\n",
       "      <td>14301</td>\n",
       "      <td>894</td>\n",
       "      <td>False</td>\n",
       "      <td>Triemer</td>\n",
       "      <td>True</td>\n",
       "    </tr>\n",
       "  </tbody>\n",
       "</table>\n",
       "</div>"
      ],
      "text/plain": [
       "   kills  deaths  assists  magicDamageDealt  physicalDamageDealt  \\\n",
       "0     14       5       22             19487               128627   \n",
       "1      7      12       30             31389                35673   \n",
       "2     12      11       33              2186                74431   \n",
       "3      8       8       16               752                39231   \n",
       "4      5       7       28             57569                 2100   \n",
       "\n",
       "   damageDealtToObjectives  firstBloodKill  goldEarned  champExperience  \\\n",
       "0                     2640           False       16077            19532   \n",
       "1                      128           False       17211            29790   \n",
       "2                      626           False       15126            24573   \n",
       "3                     1458           False       10529            11717   \n",
       "4                      411           False       10213            14301   \n",
       "\n",
       "   timePlayed  gameEndedInEarlySurrender summonerName    win  \n",
       "0        1122                      False      Triemer   True  \n",
       "1        1714                      False      Triemer  False  \n",
       "2        1315                      False      Triemer  False  \n",
       "3         871                      False      Triemer   True  \n",
       "4         894                      False      Triemer   True  "
      ]
     },
     "execution_count": 7,
     "metadata": {},
     "output_type": "execute_result"
    }
   ],
   "source": [
    "df.head()"
   ]
  },
  {
   "cell_type": "code",
   "execution_count": 8,
   "metadata": {},
   "outputs": [],
   "source": [
    "df['win'] = df['win']*1\n",
    "df['firstBloodKill'] = df['firstBloodKill']*1\n",
    "df['gameEndedInEarlySurrender'] = df['gameEndedInEarlySurrender']*1\n",
    "df['damage']=df['physicalDamageDealt']+df['magicDamageDealt']\n",
    "df['kda']=(df['kills']+df['assists'])/(df['deaths']+1) # adding 1 death, so that any deathless games dont break the math later on...\n",
    "\n"
   ]
  },
  {
   "cell_type": "code",
   "execution_count": 9,
   "metadata": {},
   "outputs": [
    {
     "data": {
      "text/html": [
       "<div>\n",
       "<style scoped>\n",
       "    .dataframe tbody tr th:only-of-type {\n",
       "        vertical-align: middle;\n",
       "    }\n",
       "\n",
       "    .dataframe tbody tr th {\n",
       "        vertical-align: top;\n",
       "    }\n",
       "\n",
       "    .dataframe thead th {\n",
       "        text-align: right;\n",
       "    }\n",
       "</style>\n",
       "<table border=\"1\" class=\"dataframe\">\n",
       "  <thead>\n",
       "    <tr style=\"text-align: right;\">\n",
       "      <th></th>\n",
       "      <th>kills</th>\n",
       "      <th>deaths</th>\n",
       "      <th>assists</th>\n",
       "      <th>magicDamageDealt</th>\n",
       "      <th>physicalDamageDealt</th>\n",
       "      <th>damageDealtToObjectives</th>\n",
       "      <th>firstBloodKill</th>\n",
       "      <th>goldEarned</th>\n",
       "      <th>champExperience</th>\n",
       "      <th>timePlayed</th>\n",
       "      <th>gameEndedInEarlySurrender</th>\n",
       "      <th>summonerName</th>\n",
       "      <th>win</th>\n",
       "      <th>damage</th>\n",
       "      <th>kda</th>\n",
       "    </tr>\n",
       "  </thead>\n",
       "  <tbody>\n",
       "    <tr>\n",
       "      <th>0</th>\n",
       "      <td>14</td>\n",
       "      <td>5</td>\n",
       "      <td>22</td>\n",
       "      <td>19487</td>\n",
       "      <td>128627</td>\n",
       "      <td>2640</td>\n",
       "      <td>0</td>\n",
       "      <td>16077</td>\n",
       "      <td>19532</td>\n",
       "      <td>1122</td>\n",
       "      <td>0</td>\n",
       "      <td>Triemer</td>\n",
       "      <td>1</td>\n",
       "      <td>148114</td>\n",
       "      <td>6.000000</td>\n",
       "    </tr>\n",
       "    <tr>\n",
       "      <th>1</th>\n",
       "      <td>7</td>\n",
       "      <td>12</td>\n",
       "      <td>30</td>\n",
       "      <td>31389</td>\n",
       "      <td>35673</td>\n",
       "      <td>128</td>\n",
       "      <td>0</td>\n",
       "      <td>17211</td>\n",
       "      <td>29790</td>\n",
       "      <td>1714</td>\n",
       "      <td>0</td>\n",
       "      <td>Triemer</td>\n",
       "      <td>0</td>\n",
       "      <td>67062</td>\n",
       "      <td>2.846154</td>\n",
       "    </tr>\n",
       "    <tr>\n",
       "      <th>2</th>\n",
       "      <td>12</td>\n",
       "      <td>11</td>\n",
       "      <td>33</td>\n",
       "      <td>2186</td>\n",
       "      <td>74431</td>\n",
       "      <td>626</td>\n",
       "      <td>0</td>\n",
       "      <td>15126</td>\n",
       "      <td>24573</td>\n",
       "      <td>1315</td>\n",
       "      <td>0</td>\n",
       "      <td>Triemer</td>\n",
       "      <td>0</td>\n",
       "      <td>76617</td>\n",
       "      <td>3.750000</td>\n",
       "    </tr>\n",
       "    <tr>\n",
       "      <th>3</th>\n",
       "      <td>8</td>\n",
       "      <td>8</td>\n",
       "      <td>16</td>\n",
       "      <td>752</td>\n",
       "      <td>39231</td>\n",
       "      <td>1458</td>\n",
       "      <td>0</td>\n",
       "      <td>10529</td>\n",
       "      <td>11717</td>\n",
       "      <td>871</td>\n",
       "      <td>0</td>\n",
       "      <td>Triemer</td>\n",
       "      <td>1</td>\n",
       "      <td>39983</td>\n",
       "      <td>2.666667</td>\n",
       "    </tr>\n",
       "    <tr>\n",
       "      <th>4</th>\n",
       "      <td>5</td>\n",
       "      <td>7</td>\n",
       "      <td>28</td>\n",
       "      <td>57569</td>\n",
       "      <td>2100</td>\n",
       "      <td>411</td>\n",
       "      <td>0</td>\n",
       "      <td>10213</td>\n",
       "      <td>14301</td>\n",
       "      <td>894</td>\n",
       "      <td>0</td>\n",
       "      <td>Triemer</td>\n",
       "      <td>1</td>\n",
       "      <td>59669</td>\n",
       "      <td>4.125000</td>\n",
       "    </tr>\n",
       "  </tbody>\n",
       "</table>\n",
       "</div>"
      ],
      "text/plain": [
       "   kills  deaths  assists  magicDamageDealt  physicalDamageDealt  \\\n",
       "0     14       5       22             19487               128627   \n",
       "1      7      12       30             31389                35673   \n",
       "2     12      11       33              2186                74431   \n",
       "3      8       8       16               752                39231   \n",
       "4      5       7       28             57569                 2100   \n",
       "\n",
       "   damageDealtToObjectives  firstBloodKill  goldEarned  champExperience  \\\n",
       "0                     2640               0       16077            19532   \n",
       "1                      128               0       17211            29790   \n",
       "2                      626               0       15126            24573   \n",
       "3                     1458               0       10529            11717   \n",
       "4                      411               0       10213            14301   \n",
       "\n",
       "   timePlayed  gameEndedInEarlySurrender summonerName  win  damage       kda  \n",
       "0        1122                          0      Triemer    1  148114  6.000000  \n",
       "1        1714                          0      Triemer    0   67062  2.846154  \n",
       "2        1315                          0      Triemer    0   76617  3.750000  \n",
       "3         871                          0      Triemer    1   39983  2.666667  \n",
       "4         894                          0      Triemer    1   59669  4.125000  "
      ]
     },
     "execution_count": 9,
     "metadata": {},
     "output_type": "execute_result"
    }
   ],
   "source": [
    "df.head()"
   ]
  },
  {
   "cell_type": "code",
   "execution_count": 10,
   "metadata": {},
   "outputs": [],
   "source": [
    "df=df.loc[df['gameEndedInEarlySurrender']==False]\n",
    "df=df[[\n",
    "'kills',\n",
    "'deaths',\n",
    "'assists',\n",
    "'magicDamageDealt',\n",
    "'physicalDamageDealt',\n",
    "'damageDealtToObjectives',\n",
    "'firstBloodKill',\n",
    "'goldEarned',\n",
    "'champExperience',\n",
    "'timePlayed',\n",
    "'summonerName',\n",
    "'win',\n",
    "'damage',\n",
    "'kda'\n",
    "]]"
   ]
  },
  {
   "cell_type": "code",
   "execution_count": 11,
   "metadata": {},
   "outputs": [
    {
     "name": "stderr",
     "output_type": "stream",
     "text": [
      "C:\\Users\\Jeff\\AppData\\Local\\Temp\\ipykernel_15632\\2038178340.py:1: FutureWarning: Downcasting behavior in `replace` is deprecated and will be removed in a future version. To retain the old behavior, explicitly call `result.infer_objects(copy=False)`. To opt-in to the future behavior, set `pd.set_option('future.no_silent_downcasting', True)`\n",
      "  df['Jeff']=df.summonerName.replace(to_replace=['DDuck Hat','Knuckle Touch', 'Triemer'], value=[0,0, 1])\n",
      "C:\\Users\\Jeff\\AppData\\Local\\Temp\\ipykernel_15632\\2038178340.py:2: FutureWarning: Downcasting behavior in `replace` is deprecated and will be removed in a future version. To retain the old behavior, explicitly call `result.infer_objects(copy=False)`. To opt-in to the future behavior, set `pd.set_option('future.no_silent_downcasting', True)`\n",
      "  df['Jason']=df.summonerName.replace(to_replace=['DDuck Hat','Knuckle Touch', 'Triemer'], value=[1,0, 0])\n",
      "C:\\Users\\Jeff\\AppData\\Local\\Temp\\ipykernel_15632\\2038178340.py:3: FutureWarning: Downcasting behavior in `replace` is deprecated and will be removed in a future version. To retain the old behavior, explicitly call `result.infer_objects(copy=False)`. To opt-in to the future behavior, set `pd.set_option('future.no_silent_downcasting', True)`\n",
      "  df['Jared']=df.summonerName.replace(to_replace=['DDuck Hat','Knuckle Touch', 'Triemer'], value=[0,1, 0])\n"
     ]
    }
   ],
   "source": [
    "df['Jeff']=df.summonerName.replace(to_replace=['DDuck Hat','Knuckle Touch', 'Triemer'], value=[0,0, 1])\n",
    "df['Jason']=df.summonerName.replace(to_replace=['DDuck Hat','Knuckle Touch', 'Triemer'], value=[1,0, 0])\n",
    "df['Jared']=df.summonerName.replace(to_replace=['DDuck Hat','Knuckle Touch', 'Triemer'], value=[0,1, 0])"
   ]
  },
  {
   "cell_type": "markdown",
   "metadata": {},
   "source": [
    "### Modelling\n",
    "\n",
    "Now that we have some data, we can start to cook something up. Is there anyway Game 1 can predict game 2?\n",
    "\n",
    "I can compare my data vs Jason's?\n",
    "- Maybe I can show some anova modeling or logistic reg."
   ]
  },
  {
   "cell_type": "code",
   "execution_count": 12,
   "metadata": {},
   "outputs": [],
   "source": [
    "from scipy.stats import f_oneway\n",
    "import researchpy as rp"
   ]
  },
  {
   "cell_type": "code",
   "execution_count": 13,
   "metadata": {},
   "outputs": [
    {
     "name": "stdout",
     "output_type": "stream",
     "text": [
      "\n",
      "\n"
     ]
    },
    {
     "data": {
      "text/html": [
       "<div>\n",
       "<style scoped>\n",
       "    .dataframe tbody tr th:only-of-type {\n",
       "        vertical-align: middle;\n",
       "    }\n",
       "\n",
       "    .dataframe tbody tr th {\n",
       "        vertical-align: top;\n",
       "    }\n",
       "\n",
       "    .dataframe thead th {\n",
       "        text-align: right;\n",
       "    }\n",
       "</style>\n",
       "<table border=\"1\" class=\"dataframe\">\n",
       "  <thead>\n",
       "    <tr style=\"text-align: right;\">\n",
       "      <th></th>\n",
       "      <th>summonerName</th>\n",
       "      <th>N</th>\n",
       "      <th>Mean</th>\n",
       "      <th>SD</th>\n",
       "      <th>SE</th>\n",
       "      <th>95% Conf.</th>\n",
       "      <th>Interval</th>\n",
       "    </tr>\n",
       "  </thead>\n",
       "  <tbody>\n",
       "    <tr>\n",
       "      <th>0</th>\n",
       "      <td>DDuck Hat</td>\n",
       "      <td>99</td>\n",
       "      <td>0.5051</td>\n",
       "      <td>0.5025</td>\n",
       "      <td>0.0505</td>\n",
       "      <td>0.4048</td>\n",
       "      <td>0.6053</td>\n",
       "    </tr>\n",
       "    <tr>\n",
       "      <th>1</th>\n",
       "      <td>Knuckle Touch</td>\n",
       "      <td>98</td>\n",
       "      <td>0.5102</td>\n",
       "      <td>0.5025</td>\n",
       "      <td>0.0508</td>\n",
       "      <td>0.4095</td>\n",
       "      <td>0.6109</td>\n",
       "    </tr>\n",
       "    <tr>\n",
       "      <th>2</th>\n",
       "      <td>Triemer</td>\n",
       "      <td>98</td>\n",
       "      <td>0.4490</td>\n",
       "      <td>0.4999</td>\n",
       "      <td>0.0505</td>\n",
       "      <td>0.3487</td>\n",
       "      <td>0.5492</td>\n",
       "    </tr>\n",
       "  </tbody>\n",
       "</table>\n",
       "</div>"
      ],
      "text/plain": [
       "    summonerName   N    Mean      SD      SE  95% Conf.  Interval\n",
       "0      DDuck Hat  99  0.5051  0.5025  0.0505     0.4048    0.6053\n",
       "1  Knuckle Touch  98  0.5102  0.5025  0.0508     0.4095    0.6109\n",
       "2        Triemer  98  0.4490  0.4999  0.0505     0.3487    0.5492"
      ]
     },
     "execution_count": 13,
     "metadata": {},
     "output_type": "execute_result"
    }
   ],
   "source": [
    "g=rp.summary_cont(df['win'].groupby(df['summonerName']))\n",
    "g=g.reset_index()\n",
    "g"
   ]
  },
  {
   "cell_type": "code",
   "execution_count": 14,
   "metadata": {},
   "outputs": [
    {
     "data": {
      "text/plain": [
       "F_onewayResult(statistic=0.44964199478699757, pvalue=0.6382973598498056)"
      ]
     },
     "execution_count": 14,
     "metadata": {},
     "output_type": "execute_result"
    }
   ],
   "source": [
    "import scipy.stats as stats\n",
    "import matplotlib.pyplot as plt\n",
    "\n",
    "stats.f_oneway(df['win'][df['summonerName'] == 'Triemer'],\n",
    "               df['win'][df['summonerName'] == 'DDuck Hat'],\n",
    "               df['win'][df['summonerName'] == 'Knuckle Touch'])"
   ]
  },
  {
   "cell_type": "code",
   "execution_count": 15,
   "metadata": {},
   "outputs": [
    {
     "data": {
      "text/plain": [
       "summonerName\n",
       "DDuck Hat        0.505051\n",
       "Knuckle Touch    0.510204\n",
       "Triemer          0.448980\n",
       "Name: win, dtype: float64"
      ]
     },
     "execution_count": 15,
     "metadata": {},
     "output_type": "execute_result"
    }
   ],
   "source": [
    "g = df.groupby('summonerName')['win'].mean()\n",
    "g"
   ]
  },
  {
   "cell_type": "code",
   "execution_count": 16,
   "metadata": {},
   "outputs": [],
   "source": [
    "import matplotlib.pyplot as plt\n",
    "def plotthis(this):\n",
    "        fig = plt.figure(figsize= (5, 5))\n",
    "        ax = fig.add_subplot(111)\n",
    "\n",
    "        ax.set_title(f\"Box Plot of {this} by Player\", fontsize= 20)\n",
    "        ax.set\n",
    "        data = [df[this][df['summonerName'] == 'Triemer'],\n",
    "                df[this][df['summonerName'] == 'DDuck Hat'],\n",
    "                df[this][df['summonerName'] == 'Knuckle Touch']]\n",
    "\n",
    "        ax.boxplot(data,\n",
    "                labels= ['Triemer', 'DDuck Hat','Knuckle Touch'],\n",
    "                showmeans= True)\n",
    "\n",
    "        plt.xlabel(\"Player\")\n",
    "        plt.ylabel(this)\n",
    "        \n",
    "        g = df.groupby('summonerName')[this].mean()\n",
    "        print(g)\n",
    "\n",
    "        plt.show()"
   ]
  },
  {
   "cell_type": "code",
   "execution_count": 61,
   "metadata": {},
   "outputs": [
    {
     "name": "stdout",
     "output_type": "stream",
     "text": [
      "kills\n",
      "summonerName\n",
      "DDuck Hat         9.666667\n",
      "Knuckle Touch    10.255102\n",
      "Triemer           8.765306\n",
      "Name: kills, dtype: float64\n"
     ]
    },
    {
     "data": {
      "image/png": "[encoded data removed]",
      "text/plain": [
       "<Figure size 360x360 with 1 Axes>"
      ]
     },
     "metadata": {
      "needs_background": "light"
     },
     "output_type": "display_data"
    },
    {
     "name": "stdout",
     "output_type": "stream",
     "text": [
      "deaths\n",
      "summonerName\n",
      "DDuck Hat        8.424242\n",
      "Knuckle Touch    8.622449\n",
      "Triemer          9.173469\n",
      "Name: deaths, dtype: float64\n"
     ]
    },
    {
     "data": {
      "image/png": "[encoded data removed]",
      "text/plain": [
       "<Figure size 360x360 with 1 Axes>"
      ]
     },
     "metadata": {
      "needs_background": "light"
     },
     "output_type": "display_data"
    },
    {
     "name": "stdout",
     "output_type": "stream",
     "text": [
      "assists\n",
      "summonerName\n",
      "DDuck Hat        18.353535\n",
      "Knuckle Touch    26.530612\n",
      "Triemer          22.816327\n",
      "Name: assists, dtype: float64\n"
     ]
    },
    {
     "data": {
      "image/png": "[encoded data removed]",
      "text/plain": [
       "<Figure size 360x360 with 1 Axes>"
      ]
     },
     "metadata": {
      "needs_background": "light"
     },
     "output_type": "display_data"
    },
    {
     "name": "stdout",
     "output_type": "stream",
     "text": [
      "magicDamageDealt\n",
      "summonerName\n",
      "DDuck Hat        23665.878788\n",
      "Knuckle Touch    35083.244898\n",
      "Triemer          24723.530612\n",
      "Name: magicDamageDealt, dtype: float64\n"
     ]
    },
    {
     "data": {
      "image/png": "[encoded data removed]",
      "text/plain": [
       "<Figure size 360x360 with 1 Axes>"
      ]
     },
     "metadata": {
      "needs_background": "light"
     },
     "output_type": "display_data"
    },
    {
     "name": "stdout",
     "output_type": "stream",
     "text": [
      "physicalDamageDealt\n",
      "summonerName\n",
      "DDuck Hat        42375.777778\n",
      "Knuckle Touch    18581.224490\n",
      "Triemer          33311.510204\n",
      "Name: physicalDamageDealt, dtype: float64\n"
     ]
    },
    {
     "data": {
      "image/png": "[encoded data removed]",
      "text/plain": [
       "<Figure size 360x360 with 1 Axes>"
      ]
     },
     "metadata": {
      "needs_background": "light"
     },
     "output_type": "display_data"
    },
    {
     "name": "stdout",
     "output_type": "stream",
     "text": [
      "damageDealtToObjectives\n",
      "summonerName\n",
      "DDuck Hat        4085.949495\n",
      "Knuckle Touch    1309.836735\n",
      "Triemer          1901.132653\n",
      "Name: damageDealtToObjectives, dtype: float64\n"
     ]
    },
    {
     "data": {
      "image/png": "[encoded data removed]",
      "text/plain": [
       "<Figure size 360x360 with 1 Axes>"
      ]
     },
     "metadata": {
      "needs_background": "light"
     },
     "output_type": "display_data"
    },
    {
     "name": "stdout",
     "output_type": "stream",
     "text": [
      "firstBloodKill\n",
      "summonerName\n",
      "DDuck Hat        0.101010\n",
      "Knuckle Touch    0.122449\n",
      "Triemer          0.081633\n",
      "Name: firstBloodKill, dtype: float64\n"
     ]
    },
    {
     "data": {
      "image/png": "[encoded data removed]",
      "text/plain": [
       "<Figure size 360x360 with 1 Axes>"
      ]
     },
     "metadata": {
      "needs_background": "light"
     },
     "output_type": "display_data"
    },
    {
     "name": "stdout",
     "output_type": "stream",
     "text": [
      "goldEarned\n",
      "summonerName\n",
      "DDuck Hat        13030.333333\n",
      "Knuckle Touch    13324.142857\n",
      "Triemer          12811.224490\n",
      "Name: goldEarned, dtype: float64\n"
     ]
    },
    {
     "data": {
      "image/png": "[encoded data removed]",
      "text/plain": [
       "<Figure size 360x360 with 1 Axes>"
      ]
     },
     "metadata": {
      "needs_background": "light"
     },
     "output_type": "display_data"
    },
    {
     "name": "stdout",
     "output_type": "stream",
     "text": [
      "champExperience\n",
      "summonerName\n",
      "DDuck Hat        17762.464646\n",
      "Knuckle Touch    18792.622449\n",
      "Triemer          17344.285714\n",
      "Name: champExperience, dtype: float64\n"
     ]
    },
    {
     "data": {
      "image/png": "[encoded data removed]",
      "text/plain": [
       "<Figure size 360x360 with 1 Axes>"
      ]
     },
     "metadata": {
      "needs_background": "light"
     },
     "output_type": "display_data"
    },
    {
     "name": "stdout",
     "output_type": "stream",
     "text": [
      "timePlayed\n",
      "summonerName\n",
      "DDuck Hat        1087.868687\n",
      "Knuckle Touch    1122.142857\n",
      "Triemer          1097.397959\n",
      "Name: timePlayed, dtype: float64\n"
     ]
    },
    {
     "data": {
      "image/png": "[encoded data removed]",
      "text/plain": [
       "<Figure size 360x360 with 1 Axes>"
      ]
     },
     "metadata": {
      "needs_background": "light"
     },
     "output_type": "display_data"
    },
    {
     "name": "stdout",
     "output_type": "stream",
     "text": [
      "win\n",
      "summonerName\n",
      "DDuck Hat        0.505051\n",
      "Knuckle Touch    0.510204\n",
      "Triemer          0.448980\n",
      "Name: win, dtype: float64\n"
     ]
    },
    {
     "data": {
      "image/png": "[encoded data removed]",
      "text/plain": [
       "<Figure size 360x360 with 1 Axes>"
      ]
     },
     "metadata": {
      "needs_background": "light"
     },
     "output_type": "display_data"
    },
    {
     "name": "stdout",
     "output_type": "stream",
     "text": [
      "damage\n",
      "summonerName\n",
      "DDuck Hat        66041.656566\n",
      "Knuckle Touch    53664.469388\n",
      "Triemer          58035.040816\n",
      "Name: damage, dtype: float64\n"
     ]
    },
    {
     "data": {
      "image/png": "[encoded data removed]",
      "text/plain": [
       "<Figure size 360x360 with 1 Axes>"
      ]
     },
     "metadata": {
      "needs_background": "light"
     },
     "output_type": "display_data"
    },
    {
     "name": "stdout",
     "output_type": "stream",
     "text": [
      "kda\n",
      "summonerName\n",
      "DDuck Hat        3.227038\n",
      "Knuckle Touch    4.267899\n",
      "Triemer          3.357143\n",
      "Name: kda, dtype: float64\n"
     ]
    },
    {
     "data": {
      "image/png": "[encoded data removed]",
      "text/plain": [
       "<Figure size 360x360 with 1 Axes>"
      ]
     },
     "metadata": {
      "needs_background": "light"
     },
     "output_type": "display_data"
    },
    {
     "name": "stdout",
     "output_type": "stream",
     "text": [
      "Jeff\n",
      "summonerName\n",
      "DDuck Hat        0.0\n",
      "Knuckle Touch    0.0\n",
      "Triemer          1.0\n",
      "Name: Jeff, dtype: float64\n"
     ]
    },
    {
     "data": {
      "image/png": "[encoded data removed]",
      "text/plain": [
       "<Figure size 360x360 with 1 Axes>"
      ]
     },
     "metadata": {
      "needs_background": "light"
     },
     "output_type": "display_data"
    },
    {
     "name": "stdout",
     "output_type": "stream",
     "text": [
      "Jason\n",
      "summonerName\n",
      "DDuck Hat        1.0\n",
      "Knuckle Touch    0.0\n",
      "Triemer          0.0\n",
      "Name: Jason, dtype: float64\n"
     ]
    },
    {
     "data": {
      "image/png": "[encoded data removed]",
      "text/plain": [
       "<Figure size 360x360 with 1 Axes>"
      ]
     },
     "metadata": {
      "needs_background": "light"
     },
     "output_type": "display_data"
    },
    {
     "name": "stdout",
     "output_type": "stream",
     "text": [
      "Jared\n",
      "summonerName\n",
      "DDuck Hat        0.0\n",
      "Knuckle Touch    1.0\n",
      "Triemer          0.0\n",
      "Name: Jared, dtype: float64\n"
     ]
    },
    {
     "data": {
      "image/png": "[encoded data removed]",
      "text/plain": [
       "<Figure size 360x360 with 1 Axes>"
      ]
     },
     "metadata": {
      "needs_background": "light"
     },
     "output_type": "display_data"
    }
   ],
   "source": [
    "for each in df.columns.tolist():\n",
    "    if each != 'summonerName':\n",
    "        print(each)\n",
    "        plotthis(each)"
   ]
  },
  {
   "cell_type": "markdown",
   "metadata": {},
   "source": [
    "### Now lets try some MLR!\n",
    "- Can we predict a game result using the data we have here? To what accuracy?"
   ]
  },
  {
   "cell_type": "code",
   "execution_count": 18,
   "metadata": {},
   "outputs": [],
   "source": [
    "import numpy as np"
   ]
  },
  {
   "cell_type": "code",
   "execution_count": 19,
   "metadata": {},
   "outputs": [],
   "source": [
    "train_df = df.sample(frac = 0.8)\n",
    "\n",
    "test_df = df.drop(train_df.index)"
   ]
  },
  {
   "cell_type": "code",
   "execution_count": 20,
   "metadata": {},
   "outputs": [
    {
     "data": {
      "text/html": [
       "<div>\n",
       "<style scoped>\n",
       "    .dataframe tbody tr th:only-of-type {\n",
       "        vertical-align: middle;\n",
       "    }\n",
       "\n",
       "    .dataframe tbody tr th {\n",
       "        vertical-align: top;\n",
       "    }\n",
       "\n",
       "    .dataframe thead th {\n",
       "        text-align: right;\n",
       "    }\n",
       "</style>\n",
       "<table border=\"1\" class=\"dataframe\">\n",
       "  <thead>\n",
       "    <tr style=\"text-align: right;\">\n",
       "      <th></th>\n",
       "      <th>kills</th>\n",
       "      <th>deaths</th>\n",
       "      <th>assists</th>\n",
       "      <th>magicDamageDealt</th>\n",
       "      <th>physicalDamageDealt</th>\n",
       "      <th>damageDealtToObjectives</th>\n",
       "      <th>firstBloodKill</th>\n",
       "      <th>goldEarned</th>\n",
       "      <th>champExperience</th>\n",
       "      <th>timePlayed</th>\n",
       "      <th>summonerName</th>\n",
       "      <th>win</th>\n",
       "      <th>damage</th>\n",
       "      <th>kda</th>\n",
       "      <th>Jeff</th>\n",
       "      <th>Jason</th>\n",
       "      <th>Jared</th>\n",
       "    </tr>\n",
       "  </thead>\n",
       "  <tbody>\n",
       "    <tr>\n",
       "      <th>0</th>\n",
       "      <td>14</td>\n",
       "      <td>5</td>\n",
       "      <td>22</td>\n",
       "      <td>19487</td>\n",
       "      <td>128627</td>\n",
       "      <td>2640</td>\n",
       "      <td>0</td>\n",
       "      <td>16077</td>\n",
       "      <td>19532</td>\n",
       "      <td>1122</td>\n",
       "      <td>Triemer</td>\n",
       "      <td>1</td>\n",
       "      <td>148114</td>\n",
       "      <td>6.000000</td>\n",
       "      <td>1</td>\n",
       "      <td>0</td>\n",
       "      <td>0</td>\n",
       "    </tr>\n",
       "    <tr>\n",
       "      <th>1</th>\n",
       "      <td>7</td>\n",
       "      <td>12</td>\n",
       "      <td>30</td>\n",
       "      <td>31389</td>\n",
       "      <td>35673</td>\n",
       "      <td>128</td>\n",
       "      <td>0</td>\n",
       "      <td>17211</td>\n",
       "      <td>29790</td>\n",
       "      <td>1714</td>\n",
       "      <td>Triemer</td>\n",
       "      <td>0</td>\n",
       "      <td>67062</td>\n",
       "      <td>2.846154</td>\n",
       "      <td>1</td>\n",
       "      <td>0</td>\n",
       "      <td>0</td>\n",
       "    </tr>\n",
       "    <tr>\n",
       "      <th>2</th>\n",
       "      <td>12</td>\n",
       "      <td>11</td>\n",
       "      <td>33</td>\n",
       "      <td>2186</td>\n",
       "      <td>74431</td>\n",
       "      <td>626</td>\n",
       "      <td>0</td>\n",
       "      <td>15126</td>\n",
       "      <td>24573</td>\n",
       "      <td>1315</td>\n",
       "      <td>Triemer</td>\n",
       "      <td>0</td>\n",
       "      <td>76617</td>\n",
       "      <td>3.750000</td>\n",
       "      <td>1</td>\n",
       "      <td>0</td>\n",
       "      <td>0</td>\n",
       "    </tr>\n",
       "    <tr>\n",
       "      <th>3</th>\n",
       "      <td>8</td>\n",
       "      <td>8</td>\n",
       "      <td>16</td>\n",
       "      <td>752</td>\n",
       "      <td>39231</td>\n",
       "      <td>1458</td>\n",
       "      <td>0</td>\n",
       "      <td>10529</td>\n",
       "      <td>11717</td>\n",
       "      <td>871</td>\n",
       "      <td>Triemer</td>\n",
       "      <td>1</td>\n",
       "      <td>39983</td>\n",
       "      <td>2.666667</td>\n",
       "      <td>1</td>\n",
       "      <td>0</td>\n",
       "      <td>0</td>\n",
       "    </tr>\n",
       "    <tr>\n",
       "      <th>4</th>\n",
       "      <td>5</td>\n",
       "      <td>7</td>\n",
       "      <td>28</td>\n",
       "      <td>57569</td>\n",
       "      <td>2100</td>\n",
       "      <td>411</td>\n",
       "      <td>0</td>\n",
       "      <td>10213</td>\n",
       "      <td>14301</td>\n",
       "      <td>894</td>\n",
       "      <td>Triemer</td>\n",
       "      <td>1</td>\n",
       "      <td>59669</td>\n",
       "      <td>4.125000</td>\n",
       "      <td>1</td>\n",
       "      <td>0</td>\n",
       "      <td>0</td>\n",
       "    </tr>\n",
       "    <tr>\n",
       "      <th>...</th>\n",
       "      <td>...</td>\n",
       "      <td>...</td>\n",
       "      <td>...</td>\n",
       "      <td>...</td>\n",
       "      <td>...</td>\n",
       "      <td>...</td>\n",
       "      <td>...</td>\n",
       "      <td>...</td>\n",
       "      <td>...</td>\n",
       "      <td>...</td>\n",
       "      <td>...</td>\n",
       "      <td>...</td>\n",
       "      <td>...</td>\n",
       "      <td>...</td>\n",
       "      <td>...</td>\n",
       "      <td>...</td>\n",
       "      <td>...</td>\n",
       "    </tr>\n",
       "    <tr>\n",
       "      <th>292</th>\n",
       "      <td>10</td>\n",
       "      <td>8</td>\n",
       "      <td>14</td>\n",
       "      <td>68363</td>\n",
       "      <td>12317</td>\n",
       "      <td>703</td>\n",
       "      <td>0</td>\n",
       "      <td>16099</td>\n",
       "      <td>25151</td>\n",
       "      <td>1504</td>\n",
       "      <td>Knuckle Touch</td>\n",
       "      <td>1</td>\n",
       "      <td>80680</td>\n",
       "      <td>2.666667</td>\n",
       "      <td>0</td>\n",
       "      <td>0</td>\n",
       "      <td>1</td>\n",
       "    </tr>\n",
       "    <tr>\n",
       "      <th>293</th>\n",
       "      <td>7</td>\n",
       "      <td>7</td>\n",
       "      <td>27</td>\n",
       "      <td>36052</td>\n",
       "      <td>882</td>\n",
       "      <td>0</td>\n",
       "      <td>0</td>\n",
       "      <td>10766</td>\n",
       "      <td>15890</td>\n",
       "      <td>952</td>\n",
       "      <td>Knuckle Touch</td>\n",
       "      <td>0</td>\n",
       "      <td>36934</td>\n",
       "      <td>4.250000</td>\n",
       "      <td>0</td>\n",
       "      <td>0</td>\n",
       "      <td>1</td>\n",
       "    </tr>\n",
       "    <tr>\n",
       "      <th>294</th>\n",
       "      <td>10</td>\n",
       "      <td>7</td>\n",
       "      <td>19</td>\n",
       "      <td>49766</td>\n",
       "      <td>801</td>\n",
       "      <td>0</td>\n",
       "      <td>0</td>\n",
       "      <td>13203</td>\n",
       "      <td>18573</td>\n",
       "      <td>1147</td>\n",
       "      <td>Knuckle Touch</td>\n",
       "      <td>0</td>\n",
       "      <td>50567</td>\n",
       "      <td>3.625000</td>\n",
       "      <td>0</td>\n",
       "      <td>0</td>\n",
       "      <td>1</td>\n",
       "    </tr>\n",
       "    <tr>\n",
       "      <th>295</th>\n",
       "      <td>24</td>\n",
       "      <td>13</td>\n",
       "      <td>30</td>\n",
       "      <td>7163</td>\n",
       "      <td>65520</td>\n",
       "      <td>1318</td>\n",
       "      <td>0</td>\n",
       "      <td>18653</td>\n",
       "      <td>25496</td>\n",
       "      <td>1465</td>\n",
       "      <td>Knuckle Touch</td>\n",
       "      <td>1</td>\n",
       "      <td>72683</td>\n",
       "      <td>3.857143</td>\n",
       "      <td>0</td>\n",
       "      <td>0</td>\n",
       "      <td>1</td>\n",
       "    </tr>\n",
       "    <tr>\n",
       "      <th>296</th>\n",
       "      <td>16</td>\n",
       "      <td>3</td>\n",
       "      <td>27</td>\n",
       "      <td>3214</td>\n",
       "      <td>46207</td>\n",
       "      <td>3210</td>\n",
       "      <td>1</td>\n",
       "      <td>12179</td>\n",
       "      <td>13342</td>\n",
       "      <td>841</td>\n",
       "      <td>Knuckle Touch</td>\n",
       "      <td>1</td>\n",
       "      <td>49421</td>\n",
       "      <td>10.750000</td>\n",
       "      <td>0</td>\n",
       "      <td>0</td>\n",
       "      <td>1</td>\n",
       "    </tr>\n",
       "  </tbody>\n",
       "</table>\n",
       "<p>295 rows × 17 columns</p>\n",
       "</div>"
      ],
      "text/plain": [
       "     kills  deaths  assists  magicDamageDealt  physicalDamageDealt  \\\n",
       "0       14       5       22             19487               128627   \n",
       "1        7      12       30             31389                35673   \n",
       "2       12      11       33              2186                74431   \n",
       "3        8       8       16               752                39231   \n",
       "4        5       7       28             57569                 2100   \n",
       "..     ...     ...      ...               ...                  ...   \n",
       "292     10       8       14             68363                12317   \n",
       "293      7       7       27             36052                  882   \n",
       "294     10       7       19             49766                  801   \n",
       "295     24      13       30              7163                65520   \n",
       "296     16       3       27              3214                46207   \n",
       "\n",
       "     damageDealtToObjectives  firstBloodKill  goldEarned  champExperience  \\\n",
       "0                       2640               0       16077            19532   \n",
       "1                        128               0       17211            29790   \n",
       "2                        626               0       15126            24573   \n",
       "3                       1458               0       10529            11717   \n",
       "4                        411               0       10213            14301   \n",
       "..                       ...             ...         ...              ...   \n",
       "292                      703               0       16099            25151   \n",
       "293                        0               0       10766            15890   \n",
       "294                        0               0       13203            18573   \n",
       "295                     1318               0       18653            25496   \n",
       "296                     3210               1       12179            13342   \n",
       "\n",
       "     timePlayed   summonerName  win  damage        kda  Jeff  Jason  Jared  \n",
       "0          1122        Triemer    1  148114   6.000000     1      0      0  \n",
       "1          1714        Triemer    0   67062   2.846154     1      0      0  \n",
       "2          1315        Triemer    0   76617   3.750000     1      0      0  \n",
       "3           871        Triemer    1   39983   2.666667     1      0      0  \n",
       "4           894        Triemer    1   59669   4.125000     1      0      0  \n",
       "..          ...            ...  ...     ...        ...   ...    ...    ...  \n",
       "292        1504  Knuckle Touch    1   80680   2.666667     0      0      1  \n",
       "293         952  Knuckle Touch    0   36934   4.250000     0      0      1  \n",
       "294        1147  Knuckle Touch    0   50567   3.625000     0      0      1  \n",
       "295        1465  Knuckle Touch    1   72683   3.857143     0      0      1  \n",
       "296         841  Knuckle Touch    1   49421  10.750000     0      0      1  \n",
       "\n",
       "[295 rows x 17 columns]"
      ]
     },
     "execution_count": 20,
     "metadata": {},
     "output_type": "execute_result"
    }
   ],
   "source": [
    "df"
   ]
  },
  {
   "cell_type": "code",
   "execution_count": 21,
   "metadata": {},
   "outputs": [],
   "source": [
    "X_train=(train_df[['kills',\n",
    "'deaths',\n",
    "'assists',\n",
    "'magicDamageDealt',\n",
    "'physicalDamageDealt',\n",
    "'damageDealtToObjectives',\n",
    "'firstBloodKill',\n",
    "'goldEarned',\n",
    "'champExperience',\n",
    "'timePlayed',\n",
    "# 'summonerName',\n",
    "'Jeff',\n",
    "'Jason',\n",
    "'Jared',\n",
    "'damage',\n",
    "'kda']])\n",
    "y_train=(train_df[['win']])\n",
    "\n",
    "x_test=np.array(test_df[['kills',\n",
    "'deaths',\n",
    "'assists',\n",
    "'magicDamageDealt',\n",
    "'physicalDamageDealt',\n",
    "'damageDealtToObjectives',\n",
    "'firstBloodKill',\n",
    "'goldEarned',\n",
    "'champExperience',\n",
    "'timePlayed',\n",
    "# 'summonerName',\n",
    "'Jeff',\n",
    "'Jason',\n",
    "'Jared',\n",
    "'damage',\n",
    "'kda']])\n",
    "y_test=np.array(test_df[['win']])"
   ]
  },
  {
   "cell_type": "code",
   "execution_count": 22,
   "metadata": {},
   "outputs": [
    {
     "name": "stderr",
     "output_type": "stream",
     "text": [
      "C:\\Users\\Jeff\\AppData\\Local\\Temp\\ipykernel_15632\\2331414520.py:1: UserWarning: No data for colormapping provided via 'c'. Parameters 'cmap' will be ignored\n",
      "  plt.scatter(X_train.iloc[:,14],y_train,cmap='rainbow')\n"
     ]
    },
    {
     "data": {
      "image/png": "[encoded data removed]",
      "text/plain": [
       "<Figure size 432x288 with 1 Axes>"
      ]
     },
     "metadata": {
      "needs_background": "light"
     },
     "output_type": "display_data"
    }
   ],
   "source": [
    "plt.scatter(X_train.iloc[:,14],y_train,cmap='rainbow')\n",
    "plt.show()"
   ]
  },
  {
   "cell_type": "code",
   "execution_count": 24,
   "metadata": {},
   "outputs": [
    {
     "data": {
      "text/plain": [
       "<seaborn.axisgrid.FacetGrid at 0x227bec2fc70>"
      ]
     },
     "execution_count": 24,
     "metadata": {},
     "output_type": "execute_result"
    },
    {
     "data": {
      "image/png": "[encoded data removed]",
      "text/plain": [
       "<Figure size 360x360 with 1 Axes>"
      ]
     },
     "metadata": {
      "needs_background": "light"
     },
     "output_type": "display_data"
    }
   ],
   "source": [
    "# penguins = sns.load_dataset(\"penguins\")\n",
    "import seaborn as sns\n",
    "sns.displot(data=df['damage'])"
   ]
  },
  {
   "cell_type": "code",
   "execution_count": 25,
   "metadata": {},
   "outputs": [
    {
     "data": {
      "text/html": [
       "<table class=\"simpletable\">\n",
       "<caption>Generalized Linear Model Regression Results</caption>\n",
       "<tr>\n",
       "  <th>Dep. Variable:</th>          <td>win</td>       <th>  No. Observations:  </th>  <td>   236</td> \n",
       "</tr>\n",
       "<tr>\n",
       "  <th>Model:</th>                  <td>GLM</td>       <th>  Df Residuals:      </th>  <td>   222</td> \n",
       "</tr>\n",
       "<tr>\n",
       "  <th>Model Family:</th>        <td>Gaussian</td>     <th>  Df Model:          </th>  <td>    13</td> \n",
       "</tr>\n",
       "<tr>\n",
       "  <th>Link Function:</th>       <td>Identity</td>     <th>  Scale:             </th> <td> 0.17143</td>\n",
       "</tr>\n",
       "<tr>\n",
       "  <th>Method:</th>                <td>IRLS</td>       <th>  Log-Likelihood:    </th> <td> -119.55</td>\n",
       "</tr>\n",
       "<tr>\n",
       "  <th>Date:</th>            <td>Sat, 30 Mar 2024</td> <th>  Deviance:          </th> <td>  38.058</td>\n",
       "</tr>\n",
       "<tr>\n",
       "  <th>Time:</th>                <td>14:50:09</td>     <th>  Pearson chi2:      </th>  <td>  38.1</td> \n",
       "</tr>\n",
       "<tr>\n",
       "  <th>No. Iterations:</th>          <td>3</td>        <th>  Pseudo R-squ. (CS):</th>  <td>0.4051</td> \n",
       "</tr>\n",
       "<tr>\n",
       "  <th>Covariance Type:</th>     <td>nonrobust</td>    <th>                     </th>     <td> </td>   \n",
       "</tr>\n",
       "</table>\n",
       "<table class=\"simpletable\">\n",
       "<tr>\n",
       "             <td></td>                <th>coef</th>     <th>std err</th>      <th>z</th>      <th>P>|z|</th>  <th>[0.025</th>    <th>0.975]</th>  \n",
       "</tr>\n",
       "<tr>\n",
       "  <th>kills</th>                   <td>   -0.0008</td> <td>    0.012</td> <td>   -0.069</td> <td> 0.945</td> <td>   -0.024</td> <td>    0.022</td>\n",
       "</tr>\n",
       "<tr>\n",
       "  <th>deaths</th>                  <td>   -0.0622</td> <td>    0.018</td> <td>   -3.492</td> <td> 0.000</td> <td>   -0.097</td> <td>   -0.027</td>\n",
       "</tr>\n",
       "<tr>\n",
       "  <th>assists</th>                 <td>    0.0065</td> <td>    0.005</td> <td>    1.208</td> <td> 0.227</td> <td>   -0.004</td> <td>    0.017</td>\n",
       "</tr>\n",
       "<tr>\n",
       "  <th>magicDamageDealt</th>        <td>-1.962e-06</td> <td> 7.59e-07</td> <td>   -2.583</td> <td> 0.010</td> <td>-3.45e-06</td> <td>-4.73e-07</td>\n",
       "</tr>\n",
       "<tr>\n",
       "  <th>physicalDamageDealt</th>     <td>-6.138e-07</td> <td> 6.96e-07</td> <td>   -0.882</td> <td> 0.378</td> <td>-1.98e-06</td> <td>  7.5e-07</td>\n",
       "</tr>\n",
       "<tr>\n",
       "  <th>damageDealtToObjectives</th> <td> 9.146e-06</td> <td> 6.19e-06</td> <td>    1.477</td> <td> 0.140</td> <td>-2.99e-06</td> <td> 2.13e-05</td>\n",
       "</tr>\n",
       "<tr>\n",
       "  <th>firstBloodKill</th>          <td>   -0.0147</td> <td>    0.094</td> <td>   -0.156</td> <td> 0.876</td> <td>   -0.199</td> <td>    0.170</td>\n",
       "</tr>\n",
       "<tr>\n",
       "  <th>goldEarned</th>              <td> 4.618e-05</td> <td>  4.1e-05</td> <td>    1.127</td> <td> 0.260</td> <td>-3.41e-05</td> <td>    0.000</td>\n",
       "</tr>\n",
       "<tr>\n",
       "  <th>champExperience</th>         <td> 2.825e-05</td> <td>  1.7e-05</td> <td>    1.666</td> <td> 0.096</td> <td>-4.98e-06</td> <td> 6.15e-05</td>\n",
       "</tr>\n",
       "<tr>\n",
       "  <th>timePlayed</th>              <td>   -0.0005</td> <td>    0.000</td> <td>   -2.664</td> <td> 0.008</td> <td>   -0.001</td> <td>   -0.000</td>\n",
       "</tr>\n",
       "<tr>\n",
       "  <th>Jeff</th>                    <td>    0.4286</td> <td>    0.244</td> <td>    1.753</td> <td> 0.080</td> <td>   -0.051</td> <td>    0.908</td>\n",
       "</tr>\n",
       "<tr>\n",
       "  <th>Jason</th>                   <td>    0.3757</td> <td>    0.236</td> <td>    1.592</td> <td> 0.111</td> <td>   -0.087</td> <td>    0.838</td>\n",
       "</tr>\n",
       "<tr>\n",
       "  <th>Jared</th>                   <td>    0.3286</td> <td>    0.246</td> <td>    1.335</td> <td> 0.182</td> <td>   -0.154</td> <td>    0.811</td>\n",
       "</tr>\n",
       "<tr>\n",
       "  <th>damage</th>                  <td>-2.575e-06</td> <td> 9.96e-07</td> <td>   -2.585</td> <td> 0.010</td> <td>-4.53e-06</td> <td>-6.23e-07</td>\n",
       "</tr>\n",
       "<tr>\n",
       "  <th>kda</th>                     <td>    0.0425</td> <td>    0.035</td> <td>    1.215</td> <td> 0.225</td> <td>   -0.026</td> <td>    0.111</td>\n",
       "</tr>\n",
       "</table>"
      ],
      "text/latex": [
       "\\begin{center}\n",
       "\\begin{tabular}{lclc}\n",
       "\\toprule\n",
       "\\textbf{Dep. Variable:}          &       win        & \\textbf{  No. Observations:  } &      236    \\\\\n",
       "\\textbf{Model:}                  &       GLM        & \\textbf{  Df Residuals:      } &      222    \\\\\n",
       "\\textbf{Model Family:}           &     Gaussian     & \\textbf{  Df Model:          } &       13    \\\\\n",
       "\\textbf{Link Function:}          &     Identity     & \\textbf{  Scale:             } &   0.17143   \\\\\n",
       "\\textbf{Method:}                 &       IRLS       & \\textbf{  Log-Likelihood:    } &   -119.55   \\\\\n",
       "\\textbf{Date:}                   & Sat, 30 Mar 2024 & \\textbf{  Deviance:          } &    38.058   \\\\\n",
       "\\textbf{Time:}                   &     14:50:09     & \\textbf{  Pearson chi2:      } &     38.1    \\\\\n",
       "\\textbf{No. Iterations:}         &        3         & \\textbf{  Pseudo R-squ. (CS):} &   0.4051    \\\\\n",
       "\\textbf{Covariance Type:}        &    nonrobust     & \\textbf{                     } &             \\\\\n",
       "\\bottomrule\n",
       "\\end{tabular}\n",
       "\\begin{tabular}{lcccccc}\n",
       "                                 & \\textbf{coef} & \\textbf{std err} & \\textbf{z} & \\textbf{P$> |$z$|$} & \\textbf{[0.025} & \\textbf{0.975]}  \\\\\n",
       "\\midrule\n",
       "\\textbf{kills}                   &      -0.0008  &        0.012     &    -0.069  &         0.945        &       -0.024    &        0.022     \\\\\n",
       "\\textbf{deaths}                  &      -0.0622  &        0.018     &    -3.492  &         0.000        &       -0.097    &       -0.027     \\\\\n",
       "\\textbf{assists}                 &       0.0065  &        0.005     &     1.208  &         0.227        &       -0.004    &        0.017     \\\\\n",
       "\\textbf{magicDamageDealt}        &   -1.962e-06  &     7.59e-07     &    -2.583  &         0.010        &    -3.45e-06    &    -4.73e-07     \\\\\n",
       "\\textbf{physicalDamageDealt}     &   -6.138e-07  &     6.96e-07     &    -0.882  &         0.378        &    -1.98e-06    &      7.5e-07     \\\\\n",
       "\\textbf{damageDealtToObjectives} &    9.146e-06  &     6.19e-06     &     1.477  &         0.140        &    -2.99e-06    &     2.13e-05     \\\\\n",
       "\\textbf{firstBloodKill}          &      -0.0147  &        0.094     &    -0.156  &         0.876        &       -0.199    &        0.170     \\\\\n",
       "\\textbf{goldEarned}              &    4.618e-05  &      4.1e-05     &     1.127  &         0.260        &    -3.41e-05    &        0.000     \\\\\n",
       "\\textbf{champExperience}         &    2.825e-05  &      1.7e-05     &     1.666  &         0.096        &    -4.98e-06    &     6.15e-05     \\\\\n",
       "\\textbf{timePlayed}              &      -0.0005  &        0.000     &    -2.664  &         0.008        &       -0.001    &       -0.000     \\\\\n",
       "\\textbf{Jeff}                    &       0.4286  &        0.244     &     1.753  &         0.080        &       -0.051    &        0.908     \\\\\n",
       "\\textbf{Jason}                   &       0.3757  &        0.236     &     1.592  &         0.111        &       -0.087    &        0.838     \\\\\n",
       "\\textbf{Jared}                   &       0.3286  &        0.246     &     1.335  &         0.182        &       -0.154    &        0.811     \\\\\n",
       "\\textbf{damage}                  &   -2.575e-06  &     9.96e-07     &    -2.585  &         0.010        &    -4.53e-06    &    -6.23e-07     \\\\\n",
       "\\textbf{kda}                     &       0.0425  &        0.035     &     1.215  &         0.225        &       -0.026    &        0.111     \\\\\n",
       "\\bottomrule\n",
       "\\end{tabular}\n",
       "%\\caption{Generalized Linear Model Regression Results}\n",
       "\\end{center}"
      ],
      "text/plain": [
       "<class 'statsmodels.iolib.summary.Summary'>\n",
       "\"\"\"\n",
       "                 Generalized Linear Model Regression Results                  \n",
       "==============================================================================\n",
       "Dep. Variable:                    win   No. Observations:                  236\n",
       "Model:                            GLM   Df Residuals:                      222\n",
       "Model Family:                Gaussian   Df Model:                           13\n",
       "Link Function:               Identity   Scale:                         0.17143\n",
       "Method:                          IRLS   Log-Likelihood:                -119.55\n",
       "Date:                Sat, 30 Mar 2024   Deviance:                       38.058\n",
       "Time:                        14:50:09   Pearson chi2:                     38.1\n",
       "No. Iterations:                     3   Pseudo R-squ. (CS):             0.4051\n",
       "Covariance Type:            nonrobust                                         \n",
       "===========================================================================================\n",
       "                              coef    std err          z      P>|z|      [0.025      0.975]\n",
       "-------------------------------------------------------------------------------------------\n",
       "kills                      -0.0008      0.012     -0.069      0.945      -0.024       0.022\n",
       "deaths                     -0.0622      0.018     -3.492      0.000      -0.097      -0.027\n",
       "assists                     0.0065      0.005      1.208      0.227      -0.004       0.017\n",
       "magicDamageDealt        -1.962e-06   7.59e-07     -2.583      0.010   -3.45e-06   -4.73e-07\n",
       "physicalDamageDealt     -6.138e-07   6.96e-07     -0.882      0.378   -1.98e-06     7.5e-07\n",
       "damageDealtToObjectives  9.146e-06   6.19e-06      1.477      0.140   -2.99e-06    2.13e-05\n",
       "firstBloodKill             -0.0147      0.094     -0.156      0.876      -0.199       0.170\n",
       "goldEarned               4.618e-05    4.1e-05      1.127      0.260   -3.41e-05       0.000\n",
       "champExperience          2.825e-05    1.7e-05      1.666      0.096   -4.98e-06    6.15e-05\n",
       "timePlayed                 -0.0005      0.000     -2.664      0.008      -0.001      -0.000\n",
       "Jeff                        0.4286      0.244      1.753      0.080      -0.051       0.908\n",
       "Jason                       0.3757      0.236      1.592      0.111      -0.087       0.838\n",
       "Jared                       0.3286      0.246      1.335      0.182      -0.154       0.811\n",
       "damage                  -2.575e-06   9.96e-07     -2.585      0.010   -4.53e-06   -6.23e-07\n",
       "kda                         0.0425      0.035      1.215      0.225      -0.026       0.111\n",
       "===========================================================================================\n",
       "\"\"\""
      ]
     },
     "execution_count": 25,
     "metadata": {},
     "output_type": "execute_result"
    }
   ],
   "source": [
    "import statsmodels.api as sm\n",
    "\n",
    "results = sm.GLM(y_train,X_train).fit()\n",
    "results.summary() \n"
   ]
  },
  {
   "cell_type": "code",
   "execution_count": 64,
   "metadata": {},
   "outputs": [
    {
     "name": "stdout",
     "output_type": "stream",
     "text": [
      "Accuracy Score of Logistic Regression is : 0.7457627118644068\n",
      "Confusion Matrix : \n",
      "[[27  6]\n",
      " [ 9 17]]\n",
      "Classification Report : \n",
      "              precision    recall  f1-score   support\n",
      "\n",
      "           0       0.75      0.82      0.78        33\n",
      "           1       0.74      0.65      0.69        26\n",
      "\n",
      "    accuracy                           0.75        59\n",
      "   macro avg       0.74      0.74      0.74        59\n",
      "weighted avg       0.75      0.75      0.74        59\n",
      "\n"
     ]
    },
    {
     "name": "stderr",
     "output_type": "stream",
     "text": [
      "C:\\Users\\Jeff\\AppData\\Local\\Packages\\PythonSoftwareFoundation.Python.3.10_qbz5n2kfra8p0\\LocalCache\\local-packages\\Python310\\site-packages\\sklearn\\utils\\validation.py:1300: DataConversionWarning: A column-vector y was passed when a 1d array was expected. Please change the shape of y to (n_samples, ), for example using ravel().\n",
      "  y = column_or_1d(y, warn=True)\n",
      "C:\\Users\\Jeff\\AppData\\Local\\Packages\\PythonSoftwareFoundation.Python.3.10_qbz5n2kfra8p0\\LocalCache\\local-packages\\Python310\\site-packages\\sklearn\\linear_model\\_logistic.py:469: ConvergenceWarning: lbfgs failed to converge (status=1):\n",
      "STOP: TOTAL NO. of ITERATIONS REACHED LIMIT.\n",
      "\n",
      "Increase the number of iterations (max_iter) or scale the data as shown in:\n",
      "    https://scikit-learn.org/stable/modules/preprocessing.html\n",
      "Please also refer to the documentation for alternative solver options:\n",
      "    https://scikit-learn.org/stable/modules/linear_model.html#logistic-regression\n",
      "  n_iter_i = _check_optimize_result(\n",
      "C:\\Users\\Jeff\\AppData\\Local\\Packages\\PythonSoftwareFoundation.Python.3.10_qbz5n2kfra8p0\\LocalCache\\local-packages\\Python310\\site-packages\\sklearn\\base.py:493: UserWarning: X does not have valid feature names, but LogisticRegression was fitted with feature names\n",
      "  warnings.warn(\n"
     ]
    }
   ],
   "source": [
    "from sklearn.model_selection import train_test_split, GridSearchCV\n",
    "from sklearn.preprocessing import StandardScaler\n",
    "from sklearn.metrics import accuracy_score, confusion_matrix, classification_report\n",
    "from sklearn.linear_model import LogisticRegression\n",
    "from sklearn.neighbors import KNeighborsClassifier\n",
    "from sklearn.svm import SVC\n",
    "from sklearn.tree import DecisionTreeClassifier\n",
    "from sklearn.ensemble import RandomForestClassifier\n",
    "from sklearn.ensemble import RandomForestClassifier\n",
    "from sklearn.ensemble import AdaBoostClassifier\n",
    "from sklearn.ensemble import GradientBoostingClassifier\n",
    "from xgboost import XGBClassifier\n",
    "from catboost import CatBoostClassifier\n",
    "from sklearn.ensemble import ExtraTreesClassifier\n",
    "from lightgbm import LGBMClassifier\n",
    "from sklearn.ensemble import VotingClassifier\n",
    "from sklearn.metrics import accuracy_score, confusion_matrix, classification_report\n",
    "\n",
    "\n",
    "lr = LogisticRegression()\n",
    "lr.fit(X_train, y_train)\n",
    "\n",
    "y_pred = lr.predict(x_test)\n",
    "\n",
    "acc_lr = accuracy_score(y_test, y_pred)\n",
    "conf = confusion_matrix(y_test, y_pred)\n",
    "clf_report = classification_report(y_test, y_pred)\n",
    "\n",
    "print(f\"Accuracy Score of Logistic Regression is : {acc_lr}\")\n",
    "print(f\"Confusion Matrix : \\n{conf}\")\n",
    "print(f\"Classification Report : \\n{clf_report}\")"
   ]
  },
  {
   "cell_type": "code",
   "execution_count": 60,
   "metadata": {},
   "outputs": [
    {
     "data": {
      "text/html": [
       "<div>\n",
       "<style scoped>\n",
       "    .dataframe tbody tr th:only-of-type {\n",
       "        vertical-align: middle;\n",
       "    }\n",
       "\n",
       "    .dataframe tbody tr th {\n",
       "        vertical-align: top;\n",
       "    }\n",
       "\n",
       "    .dataframe thead th {\n",
       "        text-align: right;\n",
       "    }\n",
       "</style>\n",
       "<table border=\"1\" class=\"dataframe\">\n",
       "  <thead>\n",
       "    <tr style=\"text-align: right;\">\n",
       "      <th></th>\n",
       "      <th>0</th>\n",
       "    </tr>\n",
       "  </thead>\n",
       "  <tbody>\n",
       "    <tr>\n",
       "      <th>kills</th>\n",
       "      <td>-0.0138</td>\n",
       "    </tr>\n",
       "    <tr>\n",
       "      <th>deaths</th>\n",
       "      <td>-0.0483</td>\n",
       "    </tr>\n",
       "    <tr>\n",
       "      <th>assists</th>\n",
       "      <td>0.0886</td>\n",
       "    </tr>\n",
       "    <tr>\n",
       "      <th>magicDamageDealt</th>\n",
       "      <td>-0.0000</td>\n",
       "    </tr>\n",
       "    <tr>\n",
       "      <th>physicalDamageDealt</th>\n",
       "      <td>-0.0000</td>\n",
       "    </tr>\n",
       "    <tr>\n",
       "      <th>damageDealtToObjectives</th>\n",
       "      <td>0.0001</td>\n",
       "    </tr>\n",
       "    <tr>\n",
       "      <th>firstBloodKill</th>\n",
       "      <td>0.0005</td>\n",
       "    </tr>\n",
       "    <tr>\n",
       "      <th>goldEarned</th>\n",
       "      <td>0.0003</td>\n",
       "    </tr>\n",
       "    <tr>\n",
       "      <th>champExperience</th>\n",
       "      <td>0.0002</td>\n",
       "    </tr>\n",
       "    <tr>\n",
       "      <th>timePlayed</th>\n",
       "      <td>-0.0069</td>\n",
       "    </tr>\n",
       "    <tr>\n",
       "      <th>Jeff</th>\n",
       "      <td>0.0016</td>\n",
       "    </tr>\n",
       "    <tr>\n",
       "      <th>Jason</th>\n",
       "      <td>-0.0017</td>\n",
       "    </tr>\n",
       "    <tr>\n",
       "      <th>Jared</th>\n",
       "      <td>0.0008</td>\n",
       "    </tr>\n",
       "    <tr>\n",
       "      <th>damage</th>\n",
       "      <td>-0.0000</td>\n",
       "    </tr>\n",
       "    <tr>\n",
       "      <th>kda</th>\n",
       "      <td>0.0358</td>\n",
       "    </tr>\n",
       "  </tbody>\n",
       "</table>\n",
       "</div>"
      ],
      "text/plain": [
       "                              0\n",
       "kills                   -0.0138\n",
       "deaths                  -0.0483\n",
       "assists                  0.0886\n",
       "magicDamageDealt        -0.0000\n",
       "physicalDamageDealt     -0.0000\n",
       "damageDealtToObjectives  0.0001\n",
       "firstBloodKill           0.0005\n",
       "goldEarned               0.0003\n",
       "champExperience          0.0002\n",
       "timePlayed              -0.0069\n",
       "Jeff                     0.0016\n",
       "Jason                   -0.0017\n",
       "Jared                    0.0008\n",
       "damage                  -0.0000\n",
       "kda                      0.0358"
      ]
     },
     "execution_count": 60,
     "metadata": {},
     "output_type": "execute_result"
    }
   ],
   "source": [
    "pd.DataFrame(np.around(np.exp(lr.coef_.tolist()[0])-1,4),X_train.columns.tolist())"
   ]
  },
  {
   "cell_type": "code",
   "execution_count": 77,
   "metadata": {},
   "outputs": [
    {
     "name": "stdout",
     "output_type": "stream",
     "text": [
      "Accuracy Score of SVM is : 0.7288135593220338\n",
      "Confusion Matrix : \n",
      "[[24  9]\n",
      " [ 7 19]]\n",
      "Classification Report : \n",
      "              precision    recall  f1-score   support\n",
      "\n",
      "           0       0.77      0.73      0.75        33\n",
      "           1       0.68      0.73      0.70        26\n",
      "\n",
      "    accuracy                           0.73        59\n",
      "   macro avg       0.73      0.73      0.73        59\n",
      "weighted avg       0.73      0.73      0.73        59\n",
      "\n"
     ]
    },
    {
     "name": "stderr",
     "output_type": "stream",
     "text": [
      "C:\\Users\\Jeff\\AppData\\Local\\Packages\\PythonSoftwareFoundation.Python.3.10_qbz5n2kfra8p0\\LocalCache\\local-packages\\Python310\\site-packages\\sklearn\\utils\\validation.py:1300: DataConversionWarning: A column-vector y was passed when a 1d array was expected. Please change the shape of y to (n_samples, ), for example using ravel().\n",
      "  y = column_or_1d(y, warn=True)\n",
      "C:\\Users\\Jeff\\AppData\\Local\\Packages\\PythonSoftwareFoundation.Python.3.10_qbz5n2kfra8p0\\LocalCache\\local-packages\\Python310\\site-packages\\sklearn\\base.py:493: UserWarning: X does not have valid feature names, but StandardScaler was fitted with feature names\n",
      "  warnings.warn(\n"
     ]
    }
   ],
   "source": [
    "from sklearn.pipeline import make_pipeline\n",
    "from sklearn.preprocessing import StandardScaler\n",
    "\n",
    "\n",
    "svm = make_pipeline(StandardScaler(), SVC(gamma='auto'))\n",
    "\n",
    "svm.fit(X_train, y_train)\n",
    "\n",
    "y_pred_svm = svm.predict(x_test)\n",
    "\n",
    "acc_svm = accuracy_score(y_test, y_pred_svm)\n",
    "conf = confusion_matrix(y_test, y_pred_svm)\n",
    "clf_report = classification_report(y_test, y_pred_svm)\n",
    "\n",
    "print(f\"Accuracy Score of SVM is : {acc_svm}\")\n",
    "print(f\"Confusion Matrix : \\n{conf}\")\n",
    "print(f\"Classification Report : \\n{clf_report}\")\n"
   ]
  },
  {
   "cell_type": "code",
   "execution_count": 66,
   "metadata": {},
   "outputs": [
    {
     "name": "stdout",
     "output_type": "stream",
     "text": [
      "Accuracy Score of KNN is : 0.4745762711864407\n",
      "Confusion Matrix : \n",
      "[[16 17]\n",
      " [14 12]]\n",
      "Classification Report : \n",
      "              precision    recall  f1-score   support\n",
      "\n",
      "           0       0.53      0.48      0.51        33\n",
      "           1       0.41      0.46      0.44        26\n",
      "\n",
      "    accuracy                           0.47        59\n",
      "   macro avg       0.47      0.47      0.47        59\n",
      "weighted avg       0.48      0.47      0.48        59\n",
      "\n"
     ]
    },
    {
     "name": "stderr",
     "output_type": "stream",
     "text": [
      "C:\\Users\\Jeff\\AppData\\Local\\Packages\\PythonSoftwareFoundation.Python.3.10_qbz5n2kfra8p0\\LocalCache\\local-packages\\Python310\\site-packages\\sklearn\\neighbors\\_classification.py:238: DataConversionWarning: A column-vector y was passed when a 1d array was expected. Please change the shape of y to (n_samples,), for example using ravel().\n",
      "  return self._fit(X, y)\n",
      "C:\\Users\\Jeff\\AppData\\Local\\Packages\\PythonSoftwareFoundation.Python.3.10_qbz5n2kfra8p0\\LocalCache\\local-packages\\Python310\\site-packages\\sklearn\\base.py:493: UserWarning: X does not have valid feature names, but KNeighborsClassifier was fitted with feature names\n",
      "  warnings.warn(\n"
     ]
    }
   ],
   "source": [
    "knn = KNeighborsClassifier()\n",
    "knn.fit(X_train, y_train)\n",
    "\n",
    "y_pred_knn = knn.predict(x_test)\n",
    "\n",
    "acc_knn = accuracy_score(y_test, y_pred_knn)\n",
    "conf = confusion_matrix(y_test, y_pred_knn)\n",
    "clf_report = classification_report(y_test, y_pred_knn)\n",
    "\n",
    "print(f\"Accuracy Score of KNN is : {acc_knn}\")\n",
    "print(f\"Confusion Matrix : \\n{conf}\")\n",
    "print(f\"Classification Report : \\n{clf_report}\")"
   ]
  },
  {
   "cell_type": "code",
   "execution_count": 67,
   "metadata": {},
   "outputs": [
    {
     "name": "stdout",
     "output_type": "stream",
     "text": [
      "Accuracy Score of Decision Tree is : 0.7966101694915254\n",
      "Confusion Matrix : \n",
      "[[28  5]\n",
      " [ 7 19]]\n",
      "Classification Report : \n",
      "              precision    recall  f1-score   support\n",
      "\n",
      "           0       0.80      0.85      0.82        33\n",
      "           1       0.79      0.73      0.76        26\n",
      "\n",
      "    accuracy                           0.80        59\n",
      "   macro avg       0.80      0.79      0.79        59\n",
      "weighted avg       0.80      0.80      0.80        59\n",
      "\n"
     ]
    },
    {
     "name": "stderr",
     "output_type": "stream",
     "text": [
      "C:\\Users\\Jeff\\AppData\\Local\\Packages\\PythonSoftwareFoundation.Python.3.10_qbz5n2kfra8p0\\LocalCache\\local-packages\\Python310\\site-packages\\sklearn\\base.py:493: UserWarning: X does not have valid feature names, but DecisionTreeClassifier was fitted with feature names\n",
      "  warnings.warn(\n"
     ]
    }
   ],
   "source": [
    "dtc = DecisionTreeClassifier()\n",
    "dtc.fit(X_train, y_train)\n",
    "\n",
    "y_pred_dtc = dtc.predict(x_test)\n",
    "\n",
    "acc_dtc = accuracy_score(y_test, y_pred_dtc)\n",
    "conf = confusion_matrix(y_test, y_pred_dtc)\n",
    "clf_report = classification_report(y_test, y_pred_dtc)\n",
    "\n",
    "print(f\"Accuracy Score of Decision Tree is : {acc_dtc}\")\n",
    "print(f\"Confusion Matrix : \\n{conf}\")\n",
    "print(f\"Classification Report : \\n{clf_report}\")"
   ]
  },
  {
   "cell_type": "code",
   "execution_count": 68,
   "metadata": {},
   "outputs": [
    {
     "name": "stderr",
     "output_type": "stream",
     "text": [
      "C:\\Users\\Jeff\\AppData\\Local\\Packages\\PythonSoftwareFoundation.Python.3.10_qbz5n2kfra8p0\\LocalCache\\local-packages\\Python310\\site-packages\\sklearn\\base.py:1474: DataConversionWarning: A column-vector y was passed when a 1d array was expected. Please change the shape of y to (n_samples,), for example using ravel().\n",
      "  return fit_method(estimator, *args, **kwargs)\n",
      "C:\\Users\\Jeff\\AppData\\Local\\Packages\\PythonSoftwareFoundation.Python.3.10_qbz5n2kfra8p0\\LocalCache\\local-packages\\Python310\\site-packages\\sklearn\\base.py:493: UserWarning: X does not have valid feature names, but RandomForestClassifier was fitted with feature names\n",
      "  warnings.warn(\n"
     ]
    },
    {
     "name": "stdout",
     "output_type": "stream",
     "text": [
      "Accuracy Score of Random Forest is : 0.7966101694915254\n",
      "Confusion Matrix : \n",
      "[[29  4]\n",
      " [ 8 18]]\n",
      "Classification Report : \n",
      "              precision    recall  f1-score   support\n",
      "\n",
      "           0       0.78      0.88      0.83        33\n",
      "           1       0.82      0.69      0.75        26\n",
      "\n",
      "    accuracy                           0.80        59\n",
      "   macro avg       0.80      0.79      0.79        59\n",
      "weighted avg       0.80      0.80      0.79        59\n",
      "\n"
     ]
    }
   ],
   "source": [
    "rd_clf = RandomForestClassifier()\n",
    "rd_clf.fit(X_train, y_train)\n",
    "\n",
    "y_pred_rd_clf = rd_clf.predict(x_test)\n",
    "\n",
    "acc_rd_clf = accuracy_score(y_test, y_pred_rd_clf)\n",
    "conf = confusion_matrix(y_test, y_pred_rd_clf)\n",
    "clf_report = classification_report(y_test, y_pred_rd_clf)\n",
    "\n",
    "print(f\"Accuracy Score of Random Forest is : {acc_rd_clf}\")\n",
    "print(f\"Confusion Matrix : \\n{conf}\")\n",
    "print(f\"Classification Report : \\n{clf_report}\")"
   ]
  },
  {
   "cell_type": "markdown",
   "metadata": {},
   "source": [
    "### what is ADA?\n",
    "- removed base_estimator = dtc from boost classifier"
   ]
  },
  {
   "cell_type": "code",
   "execution_count": 70,
   "metadata": {},
   "outputs": [
    {
     "name": "stdout",
     "output_type": "stream",
     "text": [
      "Accuracy Score of Ada Boost Classifier is : 0.8305084745762712\n",
      "Confusion Matrix : \n",
      "[[29  4]\n",
      " [ 6 20]]\n",
      "Classification Report : \n",
      "              precision    recall  f1-score   support\n",
      "\n",
      "           0       0.83      0.88      0.85        33\n",
      "           1       0.83      0.77      0.80        26\n",
      "\n",
      "    accuracy                           0.83        59\n",
      "   macro avg       0.83      0.82      0.83        59\n",
      "weighted avg       0.83      0.83      0.83        59\n",
      "\n"
     ]
    },
    {
     "name": "stderr",
     "output_type": "stream",
     "text": [
      "C:\\Users\\Jeff\\AppData\\Local\\Packages\\PythonSoftwareFoundation.Python.3.10_qbz5n2kfra8p0\\LocalCache\\local-packages\\Python310\\site-packages\\sklearn\\utils\\validation.py:1300: DataConversionWarning: A column-vector y was passed when a 1d array was expected. Please change the shape of y to (n_samples, ), for example using ravel().\n",
      "  y = column_or_1d(y, warn=True)\n",
      "C:\\Users\\Jeff\\AppData\\Local\\Packages\\PythonSoftwareFoundation.Python.3.10_qbz5n2kfra8p0\\LocalCache\\local-packages\\Python310\\site-packages\\sklearn\\ensemble\\_weight_boosting.py:519: FutureWarning: The SAMME.R algorithm (the default) is deprecated and will be removed in 1.6. Use the SAMME algorithm to circumvent this warning.\n",
      "  warnings.warn(\n",
      "C:\\Users\\Jeff\\AppData\\Local\\Packages\\PythonSoftwareFoundation.Python.3.10_qbz5n2kfra8p0\\LocalCache\\local-packages\\Python310\\site-packages\\sklearn\\base.py:493: UserWarning: X does not have valid feature names, but AdaBoostClassifier was fitted with feature names\n",
      "  warnings.warn(\n"
     ]
    }
   ],
   "source": [
    "ada = AdaBoostClassifier()\n",
    "ada.fit(X_train, y_train)\n",
    "\n",
    "y_pred_ada = ada.predict(x_test)\n",
    "\n",
    "acc_ada = accuracy_score(y_test, y_pred_ada)\n",
    "conf = confusion_matrix(y_test, y_pred_ada)\n",
    "clf_report = classification_report(y_test, y_pred_ada)\n",
    "\n",
    "print(f\"Accuracy Score of Ada Boost Classifier is : {acc_ada}\")\n",
    "print(f\"Confusion Matrix : \\n{conf}\")\n",
    "print(f\"Classification Report : \\n{clf_report}\")"
   ]
  },
  {
   "cell_type": "markdown",
   "metadata": {},
   "source": [
    "### Gradient boosting classifier?\n",
    "Great performance, what is this model?"
   ]
  },
  {
   "cell_type": "code",
   "execution_count": 71,
   "metadata": {},
   "outputs": [
    {
     "name": "stdout",
     "output_type": "stream",
     "text": [
      "Accuracy Score of Ada Boost Classifier is : 0.847457627118644\n",
      "Confusion Matrix : \n",
      "[[31  2]\n",
      " [ 7 19]]\n",
      "Classification Report : \n",
      "              precision    recall  f1-score   support\n",
      "\n",
      "           0       0.82      0.94      0.87        33\n",
      "           1       0.90      0.73      0.81        26\n",
      "\n",
      "    accuracy                           0.85        59\n",
      "   macro avg       0.86      0.84      0.84        59\n",
      "weighted avg       0.85      0.85      0.84        59\n",
      "\n"
     ]
    },
    {
     "name": "stderr",
     "output_type": "stream",
     "text": [
      "C:\\Users\\Jeff\\AppData\\Local\\Packages\\PythonSoftwareFoundation.Python.3.10_qbz5n2kfra8p0\\LocalCache\\local-packages\\Python310\\site-packages\\sklearn\\preprocessing\\_label.py:114: DataConversionWarning: A column-vector y was passed when a 1d array was expected. Please change the shape of y to (n_samples, ), for example using ravel().\n",
      "  y = column_or_1d(y, warn=True)\n",
      "C:\\Users\\Jeff\\AppData\\Local\\Packages\\PythonSoftwareFoundation.Python.3.10_qbz5n2kfra8p0\\LocalCache\\local-packages\\Python310\\site-packages\\sklearn\\base.py:493: UserWarning: X does not have valid feature names, but GradientBoostingClassifier was fitted with feature names\n",
      "  warnings.warn(\n"
     ]
    }
   ],
   "source": [
    "gb = GradientBoostingClassifier()\n",
    "gb.fit(X_train, y_train)\n",
    "\n",
    "y_pred_gb = gb.predict(x_test)\n",
    "\n",
    "acc_gb = accuracy_score(y_test, y_pred_gb)\n",
    "conf = confusion_matrix(y_test, y_pred_gb)\n",
    "clf_report = classification_report(y_test, y_pred_gb)\n",
    "\n",
    "print(f\"Accuracy Score of GradientBoostingClassifier is : {acc_gb}\")\n",
    "print(f\"Confusion Matrix : \\n{conf}\")\n",
    "print(f\"Classification Report : \\n{clf_report}\")"
   ]
  },
  {
   "cell_type": "markdown",
   "metadata": {},
   "source": [
    "### XgBoost Classifier"
   ]
  },
  {
   "cell_type": "code",
   "execution_count": null,
   "metadata": {},
   "outputs": [],
   "source": [
    "xgb = XGBClassifier(booster = 'gbtree', learning_rate = 0.1, max_depth = 5, n_estimators = 180)\n",
    "xgb.fit(X_train, y_train)\n",
    "\n",
    "y_pred_xgb = xgb.predict(x_test)\n",
    "\n",
    "acc_xgb = accuracy_score(y_test, y_pred_xgb)\n",
    "conf = confusion_matrix(y_test, y_pred_xgb)\n",
    "clf_report = classification_report(y_test, y_pred_xgb)\n",
    "\n",
    "print(f\"Accuracy Score of Ada Boost Classifier is : {acc_xgb}\")\n",
    "print(f\"Confusion Matrix : \\n{conf}\")\n",
    "print(f\"Classification Report : \\n{clf_report}\")"
   ]
  },
  {
   "cell_type": "markdown",
   "metadata": {},
   "source": [
    "### Cat boost"
   ]
  },
  {
   "cell_type": "code",
   "execution_count": null,
   "metadata": {},
   "outputs": [],
   "source": [
    "cat = CatBoostClassifier(iterations=100)\n",
    "cat.fit(X_train, y_train)\n",
    "\n",
    "y_pred_cat = cat.predict(x_test)\n",
    "\n",
    "acc_cat = accuracy_score(y_test, y_pred_cat)\n",
    "conf = confusion_matrix(y_test, y_pred_cat)\n",
    "clf_report = classification_report(y_test, y_pred_cat)\n",
    "\n",
    "print(f\"Accuracy Score of Ada Boost Classifier is : {acc_cat}\")\n",
    "print(f\"Confusion Matrix : \\n{conf}\")\n",
    "print(f\"Classification Report : \\n{clf_report}\")"
   ]
  },
  {
   "cell_type": "markdown",
   "metadata": {},
   "source": [
    "### Extra Trees Classifier"
   ]
  },
  {
   "cell_type": "code",
   "execution_count": 72,
   "metadata": {},
   "outputs": [
    {
     "name": "stdout",
     "output_type": "stream",
     "text": [
      "Accuracy Score of Ada Boost Classifier is : 0.7796610169491526\n",
      "Confusion Matrix : \n",
      "[[27  6]\n",
      " [ 7 19]]\n",
      "Classification Report : \n",
      "              precision    recall  f1-score   support\n",
      "\n",
      "           0       0.79      0.82      0.81        33\n",
      "           1       0.76      0.73      0.75        26\n",
      "\n",
      "    accuracy                           0.78        59\n",
      "   macro avg       0.78      0.77      0.78        59\n",
      "weighted avg       0.78      0.78      0.78        59\n",
      "\n"
     ]
    },
    {
     "name": "stderr",
     "output_type": "stream",
     "text": [
      "C:\\Users\\Jeff\\AppData\\Local\\Packages\\PythonSoftwareFoundation.Python.3.10_qbz5n2kfra8p0\\LocalCache\\local-packages\\Python310\\site-packages\\sklearn\\base.py:1474: DataConversionWarning: A column-vector y was passed when a 1d array was expected. Please change the shape of y to (n_samples,), for example using ravel().\n",
      "  return fit_method(estimator, *args, **kwargs)\n",
      "C:\\Users\\Jeff\\AppData\\Local\\Packages\\PythonSoftwareFoundation.Python.3.10_qbz5n2kfra8p0\\LocalCache\\local-packages\\Python310\\site-packages\\sklearn\\base.py:493: UserWarning: X does not have valid feature names, but ExtraTreesClassifier was fitted with feature names\n",
      "  warnings.warn(\n"
     ]
    }
   ],
   "source": [
    "etc = ExtraTreesClassifier()\n",
    "etc.fit(X_train, y_train)\n",
    "\n",
    "y_pred_etc = etc.predict(x_test)\n",
    "\n",
    "acc_etc = accuracy_score(y_test, y_pred_etc)\n",
    "conf = confusion_matrix(y_test, y_pred_etc)\n",
    "clf_report = classification_report(y_test, y_pred_etc)\n",
    "\n",
    "print(f\"Accuracy Score of Ada Boost Classifier is : {acc_etc}\")\n",
    "print(f\"Confusion Matrix : \\n{conf}\")\n",
    "print(f\"Classification Report : \\n{clf_report}\")"
   ]
  },
  {
   "cell_type": "markdown",
   "metadata": {},
   "source": [
    "### LGBM Classifier"
   ]
  },
  {
   "cell_type": "code",
   "execution_count": null,
   "metadata": {},
   "outputs": [],
   "source": [
    "lgbm = LGBMClassifier(learning_rate = 1)\n",
    "lgbm.fit(X_train, y_train)\n",
    "\n",
    "y_pred_lgbm = lgbm.predict(X_test)\n",
    "\n",
    "acc_lgbm = accuracy_score(y_test, y_pred_lgbm)\n",
    "conf = confusion_matrix(y_test, y_pred_lgbm)\n",
    "clf_report = classification_report(y_test, y_pred_lgbm)\n",
    "\n",
    "print(f\"Accuracy Score of Ada Boost Classifier is : {acc_lgbm}\")\n",
    "print(f\"Confusion Matrix : \\n{conf}\")\n",
    "print(f\"Classification Report : \\n{clf_report}\")"
   ]
  },
  {
   "cell_type": "markdown",
   "metadata": {},
   "source": [
    "## Model Eval"
   ]
  },
  {
   "cell_type": "code",
   "execution_count": 78,
   "metadata": {},
   "outputs": [
    {
     "ename": "NameError",
     "evalue": "name 'acc_xgb' is not defined",
     "output_type": "error",
     "traceback": [
      "\u001b[1;31m---------------------------------------------------------------------------\u001b[0m",
      "\u001b[1;31mNameError\u001b[0m                                 Traceback (most recent call last)",
      "Input \u001b[1;32mIn [78]\u001b[0m, in \u001b[0;36m<cell line: 1>\u001b[1;34m()\u001b[0m\n\u001b[0;32m      1\u001b[0m models \u001b[38;5;241m=\u001b[39m pd\u001b[38;5;241m.\u001b[39mDataFrame({\n\u001b[0;32m      2\u001b[0m     \u001b[38;5;124m'\u001b[39m\u001b[38;5;124mModel\u001b[39m\u001b[38;5;124m'\u001b[39m : [\u001b[38;5;124m'\u001b[39m\u001b[38;5;124mLogistic Regression\u001b[39m\u001b[38;5;124m'\u001b[39m, \u001b[38;5;124m'\u001b[39m\u001b[38;5;124mKNN\u001b[39m\u001b[38;5;124m'\u001b[39m, \u001b[38;5;124m'\u001b[39m\u001b[38;5;124mDecision Tree Classifier\u001b[39m\u001b[38;5;124m'\u001b[39m, \u001b[38;5;124m'\u001b[39m\u001b[38;5;124mRandom Forest Classifier\u001b[39m\u001b[38;5;124m'\u001b[39m,\u001b[38;5;124m'\u001b[39m\u001b[38;5;124mAda Boost Classifier\u001b[39m\u001b[38;5;124m'\u001b[39m,\n\u001b[0;32m      3\u001b[0m              \u001b[38;5;124m'\u001b[39m\u001b[38;5;124mGradient Boosting Classifier\u001b[39m\u001b[38;5;124m'\u001b[39m, \u001b[38;5;124m'\u001b[39m\u001b[38;5;124mXgBoost\u001b[39m\u001b[38;5;124m'\u001b[39m, \u001b[38;5;124m'\u001b[39m\u001b[38;5;124mCat Boost\u001b[39m\u001b[38;5;124m'\u001b[39m, \u001b[38;5;124m'\u001b[39m\u001b[38;5;124mExtra Trees Classifier\u001b[39m\u001b[38;5;124m'\u001b[39m, \u001b[38;5;124m'\u001b[39m\u001b[38;5;124mLGBM\u001b[39m\u001b[38;5;124m'\u001b[39m, \u001b[38;5;124m'\u001b[39m\u001b[38;5;124mVoting Classifier\u001b[39m\u001b[38;5;124m'\u001b[39m\n\u001b[0;32m      4\u001b[0m                , \u001b[38;5;124m'\u001b[39m\u001b[38;5;124mANN\u001b[39m\u001b[38;5;124m'\u001b[39m],\n\u001b[1;32m----> 5\u001b[0m     \u001b[38;5;124m'\u001b[39m\u001b[38;5;124mScore\u001b[39m\u001b[38;5;124m'\u001b[39m : [acc_lr, acc_knn, acc_dtc, acc_rd_clf, acc_ada, acc_gb, \u001b[43macc_xgb\u001b[49m, acc_cat, acc_etc, acc_lgbm]\n\u001b[0;32m      6\u001b[0m })\n\u001b[0;32m      9\u001b[0m models\u001b[38;5;241m.\u001b[39msort_values(by \u001b[38;5;241m=\u001b[39m \u001b[38;5;124m'\u001b[39m\u001b[38;5;124mScore\u001b[39m\u001b[38;5;124m'\u001b[39m, ascending \u001b[38;5;241m=\u001b[39m \u001b[38;5;28;01mFalse\u001b[39;00m)\n",
      "\u001b[1;31mNameError\u001b[0m: name 'acc_xgb' is not defined"
     ]
    }
   ],
   "source": [
    "# models = pd.DataFrame({\n",
    "#     'Model' : ['Logistic Regression', 'KNN', 'Decision Tree Classifier', 'Random Forest Classifier','Ada Boost Classifier',\n",
    "#              'Gradient Boosting Classifier', 'XgBoost', 'Cat Boost', 'Extra Trees Classifier', 'LGBM', 'Voting Classifier'\n",
    "#                , 'ANN'],\n",
    "#     'Score' : [acc_lr, acc_knn, acc_dtc, acc_rd_clf, acc_ada, acc_gb, acc_xgb, acc_cat, acc_etc, acc_lgbm, ]\n",
    "# })\n",
    "\n",
    "# models.sort_values(by = 'Score', ascending = False)"
   ]
  }
 ],
 "metadata": {
  "kernelspec": {
   "display_name": "CXD_JT",
   "language": "python",
   "name": "python3"
  },
  "language_info": {
   "codemirror_mode": {
    "name": "ipython",
    "version": 3
   },
   "file_extension": ".py",
   "mimetype": "text/x-python",
   "name": "python",
   "nbconvert_exporter": "python",
   "pygments_lexer": "ipython3",
   "version": "3.10.11"
  }
 },
 "nbformat": 4,
 "nbformat_minor": 2
}
